{
  "nbformat": 4,
  "nbformat_minor": 0,
  "metadata": {
    "colab": {
      "provenance": []
    },
    "kernelspec": {
      "name": "python3",
      "display_name": "Python 3"
    },
    "language_info": {
      "name": "python"
    }
  },
  "cells": [
    {
      "cell_type": "markdown",
      "source": [
        "# Estimación de ubicación, variabilidad y sesgo\n"
      ],
      "metadata": {
        "id": "4VcwMST6tKxx"
      }
    },
    {
      "cell_type": "code",
      "execution_count": 50,
      "metadata": {
        "id": "5sTzTRSOQUQX"
      },
      "outputs": [],
      "source": [
        "import pandas as pd"
      ]
    },
    {
      "cell_type": "markdown",
      "source": [
        "Base de datos de objetos de interés del observatorio de exoplanetas Kepler"
      ],
      "metadata": {
        "id": "yc01tLxqtiBT"
      }
    },
    {
      "cell_type": "code",
      "source": [
        "# Load the exoplanet database\n",
        "data_url = \"https://exoplanetarchive.ipac.caltech.edu/cgi-bin/nstedAPI/nph-nstedAPI?table=cumulative&select=kepid,kepoi_name,koi_disposition,koi_period,koi_impact,koi_duration,koi_depth,koi_prad,koi_teq,koi_insol,koi_model_snr&format=csv\"\n",
        "df_kepler = pd.read_csv(data_url)"
      ],
      "metadata": {
        "id": "FYH0KD79TwzO"
      },
      "execution_count": 51,
      "outputs": []
    },
    {
      "cell_type": "code",
      "source": [
        "#Dimensiones del dataframe\n",
        "df_kepler.shape"
      ],
      "metadata": {
        "colab": {
          "base_uri": "https://localhost:8080/"
        },
        "id": "79Atee4BUxNv",
        "outputId": "e12c5dff-806d-479b-fc9d-9ee9f3556977"
      },
      "execution_count": 52,
      "outputs": [
        {
          "output_type": "execute_result",
          "data": {
            "text/plain": [
              "(9564, 11)"
            ]
          },
          "metadata": {},
          "execution_count": 52
        }
      ]
    },
    {
      "cell_type": "code",
      "source": [
        "#cantidad de datos NA\n",
        "nans_per_column=df_kepler.isna().sum(axis=0)\n",
        "nans_per_column"
      ],
      "metadata": {
        "colab": {
          "base_uri": "https://localhost:8080/",
          "height": 429
        },
        "id": "fS9_uC-SVWf1",
        "outputId": "11cf81ba-914e-49f0-d891-7adc157c18c4"
      },
      "execution_count": 53,
      "outputs": [
        {
          "output_type": "execute_result",
          "data": {
            "text/plain": [
              "kepid                0\n",
              "kepoi_name           0\n",
              "koi_disposition      0\n",
              "koi_period           0\n",
              "koi_impact         363\n",
              "koi_duration         0\n",
              "koi_depth          363\n",
              "koi_prad           363\n",
              "koi_teq            363\n",
              "koi_insol          321\n",
              "koi_model_snr      363\n",
              "dtype: int64"
            ],
            "text/html": [
              "<div>\n",
              "<style scoped>\n",
              "    .dataframe tbody tr th:only-of-type {\n",
              "        vertical-align: middle;\n",
              "    }\n",
              "\n",
              "    .dataframe tbody tr th {\n",
              "        vertical-align: top;\n",
              "    }\n",
              "\n",
              "    .dataframe thead th {\n",
              "        text-align: right;\n",
              "    }\n",
              "</style>\n",
              "<table border=\"1\" class=\"dataframe\">\n",
              "  <thead>\n",
              "    <tr style=\"text-align: right;\">\n",
              "      <th></th>\n",
              "      <th>0</th>\n",
              "    </tr>\n",
              "  </thead>\n",
              "  <tbody>\n",
              "    <tr>\n",
              "      <th>kepid</th>\n",
              "      <td>0</td>\n",
              "    </tr>\n",
              "    <tr>\n",
              "      <th>kepoi_name</th>\n",
              "      <td>0</td>\n",
              "    </tr>\n",
              "    <tr>\n",
              "      <th>koi_disposition</th>\n",
              "      <td>0</td>\n",
              "    </tr>\n",
              "    <tr>\n",
              "      <th>koi_period</th>\n",
              "      <td>0</td>\n",
              "    </tr>\n",
              "    <tr>\n",
              "      <th>koi_impact</th>\n",
              "      <td>363</td>\n",
              "    </tr>\n",
              "    <tr>\n",
              "      <th>koi_duration</th>\n",
              "      <td>0</td>\n",
              "    </tr>\n",
              "    <tr>\n",
              "      <th>koi_depth</th>\n",
              "      <td>363</td>\n",
              "    </tr>\n",
              "    <tr>\n",
              "      <th>koi_prad</th>\n",
              "      <td>363</td>\n",
              "    </tr>\n",
              "    <tr>\n",
              "      <th>koi_teq</th>\n",
              "      <td>363</td>\n",
              "    </tr>\n",
              "    <tr>\n",
              "      <th>koi_insol</th>\n",
              "      <td>321</td>\n",
              "    </tr>\n",
              "    <tr>\n",
              "      <th>koi_model_snr</th>\n",
              "      <td>363</td>\n",
              "    </tr>\n",
              "  </tbody>\n",
              "</table>\n",
              "</div><br><label><b>dtype:</b> int64</label>"
            ]
          },
          "metadata": {},
          "execution_count": 53
        }
      ]
    },
    {
      "cell_type": "markdown",
      "source": [
        "Limpieza"
      ],
      "metadata": {
        "id": "XilZlZiJxJX-"
      }
    },
    {
      "cell_type": "code",
      "source": [
        "df_kepler_clean=df_kepler.dropna().reset_index(drop=True)\n",
        "df_kepler_clean"
      ],
      "metadata": {
        "colab": {
          "base_uri": "https://localhost:8080/",
          "height": 423
        },
        "id": "YdPIFDsxWFgN",
        "outputId": "20ce6b13-eabf-47f0-edc3-be0d78b8788a"
      },
      "execution_count": 54,
      "outputs": [
        {
          "output_type": "execute_result",
          "data": {
            "text/plain": [
              "         kepid kepoi_name koi_disposition  koi_period  koi_impact  \\\n",
              "0     10797460  K00752.01       CONFIRMED    9.488036       0.146   \n",
              "1     10797460  K00752.02       CONFIRMED   54.418383       0.586   \n",
              "2     10811496  K00753.01       CANDIDATE   19.899140       0.969   \n",
              "3     10848459  K00754.01  FALSE POSITIVE    1.736952       1.276   \n",
              "4     10854555  K00755.01       CONFIRMED    2.525592       0.701   \n",
              "...        ...        ...             ...         ...         ...   \n",
              "9196  10090151  K07985.01  FALSE POSITIVE    0.527699       1.252   \n",
              "9197  10128825  K07986.01       CANDIDATE    1.739849       0.043   \n",
              "9198  10147276  K07987.01  FALSE POSITIVE    0.681402       0.147   \n",
              "9199  10155286  K07988.01       CANDIDATE  333.486169       0.214   \n",
              "9200  10156110  K07989.01  FALSE POSITIVE    4.856035       0.134   \n",
              "\n",
              "      koi_duration  koi_depth  koi_prad  koi_teq  koi_insol  koi_model_snr  \n",
              "0          2.95750      615.8      2.26    793.0      93.59           35.8  \n",
              "1          4.50700      874.8      2.83    443.0       9.11           25.8  \n",
              "2          1.78220    10829.0     14.60    638.0      39.30           76.3  \n",
              "3          2.40641     8079.2     33.46   1395.0     891.96          505.6  \n",
              "4          1.65450      603.3      2.75   1406.0     926.16           40.9  \n",
              "...            ...        ...       ...      ...        ...            ...  \n",
              "9196       3.22210     1579.2     29.35   2088.0    4500.53          453.3  \n",
              "9197       3.11400       48.5      0.72   1608.0    1585.81           10.6  \n",
              "9198       0.86500      103.6      1.07   2218.0    5713.41           12.3  \n",
              "9199       3.19900      639.1     19.30    557.0      22.68           14.0  \n",
              "9200       3.07800       76.7      1.05   1266.0     607.42            8.2  \n",
              "\n",
              "[9201 rows x 11 columns]"
            ],
            "text/html": [
              "\n",
              "  <div id=\"df-66b0ddb5-5c88-4668-9c5d-476e7fab24dd\" class=\"colab-df-container\">\n",
              "    <div>\n",
              "<style scoped>\n",
              "    .dataframe tbody tr th:only-of-type {\n",
              "        vertical-align: middle;\n",
              "    }\n",
              "\n",
              "    .dataframe tbody tr th {\n",
              "        vertical-align: top;\n",
              "    }\n",
              "\n",
              "    .dataframe thead th {\n",
              "        text-align: right;\n",
              "    }\n",
              "</style>\n",
              "<table border=\"1\" class=\"dataframe\">\n",
              "  <thead>\n",
              "    <tr style=\"text-align: right;\">\n",
              "      <th></th>\n",
              "      <th>kepid</th>\n",
              "      <th>kepoi_name</th>\n",
              "      <th>koi_disposition</th>\n",
              "      <th>koi_period</th>\n",
              "      <th>koi_impact</th>\n",
              "      <th>koi_duration</th>\n",
              "      <th>koi_depth</th>\n",
              "      <th>koi_prad</th>\n",
              "      <th>koi_teq</th>\n",
              "      <th>koi_insol</th>\n",
              "      <th>koi_model_snr</th>\n",
              "    </tr>\n",
              "  </thead>\n",
              "  <tbody>\n",
              "    <tr>\n",
              "      <th>0</th>\n",
              "      <td>10797460</td>\n",
              "      <td>K00752.01</td>\n",
              "      <td>CONFIRMED</td>\n",
              "      <td>9.488036</td>\n",
              "      <td>0.146</td>\n",
              "      <td>2.95750</td>\n",
              "      <td>615.8</td>\n",
              "      <td>2.26</td>\n",
              "      <td>793.0</td>\n",
              "      <td>93.59</td>\n",
              "      <td>35.8</td>\n",
              "    </tr>\n",
              "    <tr>\n",
              "      <th>1</th>\n",
              "      <td>10797460</td>\n",
              "      <td>K00752.02</td>\n",
              "      <td>CONFIRMED</td>\n",
              "      <td>54.418383</td>\n",
              "      <td>0.586</td>\n",
              "      <td>4.50700</td>\n",
              "      <td>874.8</td>\n",
              "      <td>2.83</td>\n",
              "      <td>443.0</td>\n",
              "      <td>9.11</td>\n",
              "      <td>25.8</td>\n",
              "    </tr>\n",
              "    <tr>\n",
              "      <th>2</th>\n",
              "      <td>10811496</td>\n",
              "      <td>K00753.01</td>\n",
              "      <td>CANDIDATE</td>\n",
              "      <td>19.899140</td>\n",
              "      <td>0.969</td>\n",
              "      <td>1.78220</td>\n",
              "      <td>10829.0</td>\n",
              "      <td>14.60</td>\n",
              "      <td>638.0</td>\n",
              "      <td>39.30</td>\n",
              "      <td>76.3</td>\n",
              "    </tr>\n",
              "    <tr>\n",
              "      <th>3</th>\n",
              "      <td>10848459</td>\n",
              "      <td>K00754.01</td>\n",
              "      <td>FALSE POSITIVE</td>\n",
              "      <td>1.736952</td>\n",
              "      <td>1.276</td>\n",
              "      <td>2.40641</td>\n",
              "      <td>8079.2</td>\n",
              "      <td>33.46</td>\n",
              "      <td>1395.0</td>\n",
              "      <td>891.96</td>\n",
              "      <td>505.6</td>\n",
              "    </tr>\n",
              "    <tr>\n",
              "      <th>4</th>\n",
              "      <td>10854555</td>\n",
              "      <td>K00755.01</td>\n",
              "      <td>CONFIRMED</td>\n",
              "      <td>2.525592</td>\n",
              "      <td>0.701</td>\n",
              "      <td>1.65450</td>\n",
              "      <td>603.3</td>\n",
              "      <td>2.75</td>\n",
              "      <td>1406.0</td>\n",
              "      <td>926.16</td>\n",
              "      <td>40.9</td>\n",
              "    </tr>\n",
              "    <tr>\n",
              "      <th>...</th>\n",
              "      <td>...</td>\n",
              "      <td>...</td>\n",
              "      <td>...</td>\n",
              "      <td>...</td>\n",
              "      <td>...</td>\n",
              "      <td>...</td>\n",
              "      <td>...</td>\n",
              "      <td>...</td>\n",
              "      <td>...</td>\n",
              "      <td>...</td>\n",
              "      <td>...</td>\n",
              "    </tr>\n",
              "    <tr>\n",
              "      <th>9196</th>\n",
              "      <td>10090151</td>\n",
              "      <td>K07985.01</td>\n",
              "      <td>FALSE POSITIVE</td>\n",
              "      <td>0.527699</td>\n",
              "      <td>1.252</td>\n",
              "      <td>3.22210</td>\n",
              "      <td>1579.2</td>\n",
              "      <td>29.35</td>\n",
              "      <td>2088.0</td>\n",
              "      <td>4500.53</td>\n",
              "      <td>453.3</td>\n",
              "    </tr>\n",
              "    <tr>\n",
              "      <th>9197</th>\n",
              "      <td>10128825</td>\n",
              "      <td>K07986.01</td>\n",
              "      <td>CANDIDATE</td>\n",
              "      <td>1.739849</td>\n",
              "      <td>0.043</td>\n",
              "      <td>3.11400</td>\n",
              "      <td>48.5</td>\n",
              "      <td>0.72</td>\n",
              "      <td>1608.0</td>\n",
              "      <td>1585.81</td>\n",
              "      <td>10.6</td>\n",
              "    </tr>\n",
              "    <tr>\n",
              "      <th>9198</th>\n",
              "      <td>10147276</td>\n",
              "      <td>K07987.01</td>\n",
              "      <td>FALSE POSITIVE</td>\n",
              "      <td>0.681402</td>\n",
              "      <td>0.147</td>\n",
              "      <td>0.86500</td>\n",
              "      <td>103.6</td>\n",
              "      <td>1.07</td>\n",
              "      <td>2218.0</td>\n",
              "      <td>5713.41</td>\n",
              "      <td>12.3</td>\n",
              "    </tr>\n",
              "    <tr>\n",
              "      <th>9199</th>\n",
              "      <td>10155286</td>\n",
              "      <td>K07988.01</td>\n",
              "      <td>CANDIDATE</td>\n",
              "      <td>333.486169</td>\n",
              "      <td>0.214</td>\n",
              "      <td>3.19900</td>\n",
              "      <td>639.1</td>\n",
              "      <td>19.30</td>\n",
              "      <td>557.0</td>\n",
              "      <td>22.68</td>\n",
              "      <td>14.0</td>\n",
              "    </tr>\n",
              "    <tr>\n",
              "      <th>9200</th>\n",
              "      <td>10156110</td>\n",
              "      <td>K07989.01</td>\n",
              "      <td>FALSE POSITIVE</td>\n",
              "      <td>4.856035</td>\n",
              "      <td>0.134</td>\n",
              "      <td>3.07800</td>\n",
              "      <td>76.7</td>\n",
              "      <td>1.05</td>\n",
              "      <td>1266.0</td>\n",
              "      <td>607.42</td>\n",
              "      <td>8.2</td>\n",
              "    </tr>\n",
              "  </tbody>\n",
              "</table>\n",
              "<p>9201 rows × 11 columns</p>\n",
              "</div>\n",
              "    <div class=\"colab-df-buttons\">\n",
              "\n",
              "  <div class=\"colab-df-container\">\n",
              "    <button class=\"colab-df-convert\" onclick=\"convertToInteractive('df-66b0ddb5-5c88-4668-9c5d-476e7fab24dd')\"\n",
              "            title=\"Convert this dataframe to an interactive table.\"\n",
              "            style=\"display:none;\">\n",
              "\n",
              "  <svg xmlns=\"http://www.w3.org/2000/svg\" height=\"24px\" viewBox=\"0 -960 960 960\">\n",
              "    <path d=\"M120-120v-720h720v720H120Zm60-500h600v-160H180v160Zm220 220h160v-160H400v160Zm0 220h160v-160H400v160ZM180-400h160v-160H180v160Zm440 0h160v-160H620v160ZM180-180h160v-160H180v160Zm440 0h160v-160H620v160Z\"/>\n",
              "  </svg>\n",
              "    </button>\n",
              "\n",
              "  <style>\n",
              "    .colab-df-container {\n",
              "      display:flex;\n",
              "      gap: 12px;\n",
              "    }\n",
              "\n",
              "    .colab-df-convert {\n",
              "      background-color: #E8F0FE;\n",
              "      border: none;\n",
              "      border-radius: 50%;\n",
              "      cursor: pointer;\n",
              "      display: none;\n",
              "      fill: #1967D2;\n",
              "      height: 32px;\n",
              "      padding: 0 0 0 0;\n",
              "      width: 32px;\n",
              "    }\n",
              "\n",
              "    .colab-df-convert:hover {\n",
              "      background-color: #E2EBFA;\n",
              "      box-shadow: 0px 1px 2px rgba(60, 64, 67, 0.3), 0px 1px 3px 1px rgba(60, 64, 67, 0.15);\n",
              "      fill: #174EA6;\n",
              "    }\n",
              "\n",
              "    .colab-df-buttons div {\n",
              "      margin-bottom: 4px;\n",
              "    }\n",
              "\n",
              "    [theme=dark] .colab-df-convert {\n",
              "      background-color: #3B4455;\n",
              "      fill: #D2E3FC;\n",
              "    }\n",
              "\n",
              "    [theme=dark] .colab-df-convert:hover {\n",
              "      background-color: #434B5C;\n",
              "      box-shadow: 0px 1px 3px 1px rgba(0, 0, 0, 0.15);\n",
              "      filter: drop-shadow(0px 1px 2px rgba(0, 0, 0, 0.3));\n",
              "      fill: #FFFFFF;\n",
              "    }\n",
              "  </style>\n",
              "\n",
              "    <script>\n",
              "      const buttonEl =\n",
              "        document.querySelector('#df-66b0ddb5-5c88-4668-9c5d-476e7fab24dd button.colab-df-convert');\n",
              "      buttonEl.style.display =\n",
              "        google.colab.kernel.accessAllowed ? 'block' : 'none';\n",
              "\n",
              "      async function convertToInteractive(key) {\n",
              "        const element = document.querySelector('#df-66b0ddb5-5c88-4668-9c5d-476e7fab24dd');\n",
              "        const dataTable =\n",
              "          await google.colab.kernel.invokeFunction('convertToInteractive',\n",
              "                                                    [key], {});\n",
              "        if (!dataTable) return;\n",
              "\n",
              "        const docLinkHtml = 'Like what you see? Visit the ' +\n",
              "          '<a target=\"_blank\" href=https://colab.research.google.com/notebooks/data_table.ipynb>data table notebook</a>'\n",
              "          + ' to learn more about interactive tables.';\n",
              "        element.innerHTML = '';\n",
              "        dataTable['output_type'] = 'display_data';\n",
              "        await google.colab.output.renderOutput(dataTable, element);\n",
              "        const docLink = document.createElement('div');\n",
              "        docLink.innerHTML = docLinkHtml;\n",
              "        element.appendChild(docLink);\n",
              "      }\n",
              "    </script>\n",
              "  </div>\n",
              "\n",
              "\n",
              "<div id=\"df-2cfc23f7-d736-426a-86ef-b9caa53fa47e\">\n",
              "  <button class=\"colab-df-quickchart\" onclick=\"quickchart('df-2cfc23f7-d736-426a-86ef-b9caa53fa47e')\"\n",
              "            title=\"Suggest charts\"\n",
              "            style=\"display:none;\">\n",
              "\n",
              "<svg xmlns=\"http://www.w3.org/2000/svg\" height=\"24px\"viewBox=\"0 0 24 24\"\n",
              "     width=\"24px\">\n",
              "    <g>\n",
              "        <path d=\"M19 3H5c-1.1 0-2 .9-2 2v14c0 1.1.9 2 2 2h14c1.1 0 2-.9 2-2V5c0-1.1-.9-2-2-2zM9 17H7v-7h2v7zm4 0h-2V7h2v10zm4 0h-2v-4h2v4z\"/>\n",
              "    </g>\n",
              "</svg>\n",
              "  </button>\n",
              "\n",
              "<style>\n",
              "  .colab-df-quickchart {\n",
              "      --bg-color: #E8F0FE;\n",
              "      --fill-color: #1967D2;\n",
              "      --hover-bg-color: #E2EBFA;\n",
              "      --hover-fill-color: #174EA6;\n",
              "      --disabled-fill-color: #AAA;\n",
              "      --disabled-bg-color: #DDD;\n",
              "  }\n",
              "\n",
              "  [theme=dark] .colab-df-quickchart {\n",
              "      --bg-color: #3B4455;\n",
              "      --fill-color: #D2E3FC;\n",
              "      --hover-bg-color: #434B5C;\n",
              "      --hover-fill-color: #FFFFFF;\n",
              "      --disabled-bg-color: #3B4455;\n",
              "      --disabled-fill-color: #666;\n",
              "  }\n",
              "\n",
              "  .colab-df-quickchart {\n",
              "    background-color: var(--bg-color);\n",
              "    border: none;\n",
              "    border-radius: 50%;\n",
              "    cursor: pointer;\n",
              "    display: none;\n",
              "    fill: var(--fill-color);\n",
              "    height: 32px;\n",
              "    padding: 0;\n",
              "    width: 32px;\n",
              "  }\n",
              "\n",
              "  .colab-df-quickchart:hover {\n",
              "    background-color: var(--hover-bg-color);\n",
              "    box-shadow: 0 1px 2px rgba(60, 64, 67, 0.3), 0 1px 3px 1px rgba(60, 64, 67, 0.15);\n",
              "    fill: var(--button-hover-fill-color);\n",
              "  }\n",
              "\n",
              "  .colab-df-quickchart-complete:disabled,\n",
              "  .colab-df-quickchart-complete:disabled:hover {\n",
              "    background-color: var(--disabled-bg-color);\n",
              "    fill: var(--disabled-fill-color);\n",
              "    box-shadow: none;\n",
              "  }\n",
              "\n",
              "  .colab-df-spinner {\n",
              "    border: 2px solid var(--fill-color);\n",
              "    border-color: transparent;\n",
              "    border-bottom-color: var(--fill-color);\n",
              "    animation:\n",
              "      spin 1s steps(1) infinite;\n",
              "  }\n",
              "\n",
              "  @keyframes spin {\n",
              "    0% {\n",
              "      border-color: transparent;\n",
              "      border-bottom-color: var(--fill-color);\n",
              "      border-left-color: var(--fill-color);\n",
              "    }\n",
              "    20% {\n",
              "      border-color: transparent;\n",
              "      border-left-color: var(--fill-color);\n",
              "      border-top-color: var(--fill-color);\n",
              "    }\n",
              "    30% {\n",
              "      border-color: transparent;\n",
              "      border-left-color: var(--fill-color);\n",
              "      border-top-color: var(--fill-color);\n",
              "      border-right-color: var(--fill-color);\n",
              "    }\n",
              "    40% {\n",
              "      border-color: transparent;\n",
              "      border-right-color: var(--fill-color);\n",
              "      border-top-color: var(--fill-color);\n",
              "    }\n",
              "    60% {\n",
              "      border-color: transparent;\n",
              "      border-right-color: var(--fill-color);\n",
              "    }\n",
              "    80% {\n",
              "      border-color: transparent;\n",
              "      border-right-color: var(--fill-color);\n",
              "      border-bottom-color: var(--fill-color);\n",
              "    }\n",
              "    90% {\n",
              "      border-color: transparent;\n",
              "      border-bottom-color: var(--fill-color);\n",
              "    }\n",
              "  }\n",
              "</style>\n",
              "\n",
              "  <script>\n",
              "    async function quickchart(key) {\n",
              "      const quickchartButtonEl =\n",
              "        document.querySelector('#' + key + ' button');\n",
              "      quickchartButtonEl.disabled = true;  // To prevent multiple clicks.\n",
              "      quickchartButtonEl.classList.add('colab-df-spinner');\n",
              "      try {\n",
              "        const charts = await google.colab.kernel.invokeFunction(\n",
              "            'suggestCharts', [key], {});\n",
              "      } catch (error) {\n",
              "        console.error('Error during call to suggestCharts:', error);\n",
              "      }\n",
              "      quickchartButtonEl.classList.remove('colab-df-spinner');\n",
              "      quickchartButtonEl.classList.add('colab-df-quickchart-complete');\n",
              "    }\n",
              "    (() => {\n",
              "      let quickchartButtonEl =\n",
              "        document.querySelector('#df-2cfc23f7-d736-426a-86ef-b9caa53fa47e button');\n",
              "      quickchartButtonEl.style.display =\n",
              "        google.colab.kernel.accessAllowed ? 'block' : 'none';\n",
              "    })();\n",
              "  </script>\n",
              "</div>\n",
              "\n",
              "  <div id=\"id_036935c5-d884-4109-9aed-a008306b32f7\">\n",
              "    <style>\n",
              "      .colab-df-generate {\n",
              "        background-color: #E8F0FE;\n",
              "        border: none;\n",
              "        border-radius: 50%;\n",
              "        cursor: pointer;\n",
              "        display: none;\n",
              "        fill: #1967D2;\n",
              "        height: 32px;\n",
              "        padding: 0 0 0 0;\n",
              "        width: 32px;\n",
              "      }\n",
              "\n",
              "      .colab-df-generate:hover {\n",
              "        background-color: #E2EBFA;\n",
              "        box-shadow: 0px 1px 2px rgba(60, 64, 67, 0.3), 0px 1px 3px 1px rgba(60, 64, 67, 0.15);\n",
              "        fill: #174EA6;\n",
              "      }\n",
              "\n",
              "      [theme=dark] .colab-df-generate {\n",
              "        background-color: #3B4455;\n",
              "        fill: #D2E3FC;\n",
              "      }\n",
              "\n",
              "      [theme=dark] .colab-df-generate:hover {\n",
              "        background-color: #434B5C;\n",
              "        box-shadow: 0px 1px 3px 1px rgba(0, 0, 0, 0.15);\n",
              "        filter: drop-shadow(0px 1px 2px rgba(0, 0, 0, 0.3));\n",
              "        fill: #FFFFFF;\n",
              "      }\n",
              "    </style>\n",
              "    <button class=\"colab-df-generate\" onclick=\"generateWithVariable('df_kepler_clean')\"\n",
              "            title=\"Generate code using this dataframe.\"\n",
              "            style=\"display:none;\">\n",
              "\n",
              "  <svg xmlns=\"http://www.w3.org/2000/svg\" height=\"24px\"viewBox=\"0 0 24 24\"\n",
              "       width=\"24px\">\n",
              "    <path d=\"M7,19H8.4L18.45,9,17,7.55,7,17.6ZM5,21V16.75L18.45,3.32a2,2,0,0,1,2.83,0l1.4,1.43a1.91,1.91,0,0,1,.58,1.4,1.91,1.91,0,0,1-.58,1.4L9.25,21ZM18.45,9,17,7.55Zm-12,3A5.31,5.31,0,0,0,4.9,8.1,5.31,5.31,0,0,0,1,6.5,5.31,5.31,0,0,0,4.9,4.9,5.31,5.31,0,0,0,6.5,1,5.31,5.31,0,0,0,8.1,4.9,5.31,5.31,0,0,0,12,6.5,5.46,5.46,0,0,0,6.5,12Z\"/>\n",
              "  </svg>\n",
              "    </button>\n",
              "    <script>\n",
              "      (() => {\n",
              "      const buttonEl =\n",
              "        document.querySelector('#id_036935c5-d884-4109-9aed-a008306b32f7 button.colab-df-generate');\n",
              "      buttonEl.style.display =\n",
              "        google.colab.kernel.accessAllowed ? 'block' : 'none';\n",
              "\n",
              "      buttonEl.onclick = () => {\n",
              "        google.colab.notebook.generateWithVariable('df_kepler_clean');\n",
              "      }\n",
              "      })();\n",
              "    </script>\n",
              "  </div>\n",
              "\n",
              "    </div>\n",
              "  </div>\n"
            ],
            "application/vnd.google.colaboratory.intrinsic+json": {
              "type": "dataframe",
              "variable_name": "df_kepler_clean",
              "summary": "{\n  \"name\": \"df_kepler_clean\",\n  \"rows\": 9201,\n  \"fields\": [\n    {\n      \"column\": \"kepid\",\n      \"properties\": {\n        \"dtype\": \"number\",\n        \"std\": 2654498,\n        \"min\": 757450,\n        \"max\": 12935144,\n        \"num_unique_values\": 7927,\n        \"samples\": [\n          4164511,\n          3962243,\n          4751083\n        ],\n        \"semantic_type\": \"\",\n        \"description\": \"\"\n      }\n    },\n    {\n      \"column\": \"kepoi_name\",\n      \"properties\": {\n        \"dtype\": \"string\",\n        \"num_unique_values\": 9201,\n        \"samples\": [\n          \"K05714.01\",\n          \"K03158.04\",\n          \"K02720.01\"\n        ],\n        \"semantic_type\": \"\",\n        \"description\": \"\"\n      }\n    },\n    {\n      \"column\": \"koi_disposition\",\n      \"properties\": {\n        \"dtype\": \"category\",\n        \"num_unique_values\": 3,\n        \"samples\": [\n          \"CONFIRMED\",\n          \"CANDIDATE\",\n          \"FALSE POSITIVE\"\n        ],\n        \"semantic_type\": \"\",\n        \"description\": \"\"\n      }\n    },\n    {\n      \"column\": \"koi_period\",\n      \"properties\": {\n        \"dtype\": \"number\",\n        \"std\": 1360.5388474375743,\n        \"min\": 0.241842544,\n        \"max\": 129995.7784,\n        \"num_unique_values\": 9201,\n        \"samples\": [\n          2.249000963,\n          7.74347801,\n          6.57159435\n        ],\n        \"semantic_type\": \"\",\n        \"description\": \"\"\n      }\n    },\n    {\n      \"column\": \"koi_impact\",\n      \"properties\": {\n        \"dtype\": \"number\",\n        \"std\": 3.3488320204098203,\n        \"min\": 0.0,\n        \"max\": 100.806,\n        \"num_unique_values\": 2406,\n        \"samples\": [\n          0.3153,\n          1.073,\n          0.5353\n        ],\n        \"semantic_type\": \"\",\n        \"description\": \"\"\n      }\n    },\n    {\n      \"column\": \"koi_duration\",\n      \"properties\": {\n        \"dtype\": \"number\",\n        \"std\": 6.499702654826507,\n        \"min\": 0.052,\n        \"max\": 138.54,\n        \"num_unique_values\": 7700,\n        \"samples\": [\n          1.2067,\n          6.65,\n          7.7999\n        ],\n        \"semantic_type\": \"\",\n        \"description\": \"\"\n      }\n    },\n    {\n      \"column\": \"koi_depth\",\n      \"properties\": {\n        \"dtype\": \"number\",\n        \"std\": 82242.68470815982,\n        \"min\": 0.0,\n        \"max\": 1541400.0,\n        \"num_unique_values\": 6953,\n        \"samples\": [\n          80.0,\n          3122.5,\n          100.1\n        ],\n        \"semantic_type\": \"\",\n        \"description\": \"\"\n      }\n    },\n    {\n      \"column\": \"koi_prad\",\n      \"properties\": {\n        \"dtype\": \"number\",\n        \"std\": 3077.639126222184,\n        \"min\": 0.08,\n        \"max\": 200346.0,\n        \"num_unique_values\": 2988,\n        \"samples\": [\n          60.45,\n          19.31,\n          30.37\n        ],\n        \"semantic_type\": \"\",\n        \"description\": \"\"\n      }\n    },\n    {\n      \"column\": \"koi_teq\",\n      \"properties\": {\n        \"dtype\": \"number\",\n        \"std\": 856.3511614828549,\n        \"min\": 25.0,\n        \"max\": 14667.0,\n        \"num_unique_values\": 2511,\n        \"samples\": [\n          296.0,\n          1760.0,\n          2710.0\n        ],\n        \"semantic_type\": \"\",\n        \"description\": \"\"\n      }\n    },\n    {\n      \"column\": \"koi_insol\",\n      \"properties\": {\n        \"dtype\": \"number\",\n        \"std\": 159545.53730137172,\n        \"min\": 0.0,\n        \"max\": 10947554.55,\n        \"num_unique_values\": 7762,\n        \"samples\": [\n          13.28,\n          23.06,\n          21.43\n        ],\n        \"semantic_type\": \"\",\n        \"description\": \"\"\n      }\n    },\n    {\n      \"column\": \"koi_model_snr\",\n      \"properties\": {\n        \"dtype\": \"number\",\n        \"std\": 795.8066147305611,\n        \"min\": 0.0,\n        \"max\": 9054.7,\n        \"num_unique_values\": 2740,\n        \"samples\": [\n          80.8,\n          12.1,\n          69.6\n        ],\n        \"semantic_type\": \"\",\n        \"description\": \"\"\n      }\n    }\n  ]\n}"
            }
          },
          "metadata": {},
          "execution_count": 54
        }
      ]
    },
    {
      "cell_type": "markdown",
      "source": [
        "Estimación de la ubicación, variabilidad y sesgo del radio planetario"
      ],
      "metadata": {
        "id": "fFYkrKxvy8nE"
      }
    },
    {
      "cell_type": "code",
      "source": [
        "planet_radius=df_kepler_clean['koi_prad']\n",
        "print(f'La media del radio es {planet_radius.mean()}, y la mediana es {planet_radius.median()}' )"
      ],
      "metadata": {
        "id": "zqlbVF6MV_3X",
        "colab": {
          "base_uri": "https://localhost:8080/"
        },
        "outputId": "eaec6865-1241-4c7f-a2f7-43866d4a5940"
      },
      "execution_count": 55,
      "outputs": [
        {
          "output_type": "stream",
          "name": "stdout",
          "text": [
            "La media del radio es 102.89177806760135, y la mediana es 2.39\n"
          ]
        }
      ]
    },
    {
      "cell_type": "markdown",
      "source": [
        "Este resultado muestra una gran disparidad entre la media y la mediana, lo que sugiere la presencia de valores atípicos en las colas. Un estimador más robusto para el centro de la distribución es la media recortada."
      ],
      "metadata": {
        "id": "K53WNWCLzg4y"
      }
    },
    {
      "cell_type": "code",
      "source": [
        "from scipy.stats import trim_mean"
      ],
      "metadata": {
        "id": "qShsPaFRXMgy"
      },
      "execution_count": 56,
      "outputs": []
    },
    {
      "cell_type": "code",
      "source": [
        "print(f'La media truncada al 20% es:{trim_mean(planet_radius,0.2)}')"
      ],
      "metadata": {
        "colab": {
          "base_uri": "https://localhost:8080/"
        },
        "id": "qzl5K8cHXkLO",
        "outputId": "65723cbd-38b0-48dd-81ac-cc32d29cb88b"
      },
      "execution_count": 57,
      "outputs": [
        {
          "output_type": "stream",
          "name": "stdout",
          "text": [
            "La media truncada al 20% es:4.664966491577612\n"
          ]
        }
      ]
    },
    {
      "cell_type": "markdown",
      "source": [
        "Estimaciones de variabilidad"
      ],
      "metadata": {
        "id": "KjcCG0OYZPgg"
      }
    },
    {
      "cell_type": "code",
      "source": [
        "print(f'La desviación estandar es {planet_radius.std()}')"
      ],
      "metadata": {
        "colab": {
          "base_uri": "https://localhost:8080/"
        },
        "id": "KDlEbKLgYurh",
        "outputId": "1158a95f-08dc-417a-f284-d23d56646ec9"
      },
      "execution_count": 58,
      "outputs": [
        {
          "output_type": "stream",
          "name": "stdout",
          "text": [
            "La desviación estandar es 3077.639126222184\n"
          ]
        }
      ]
    },
    {
      "cell_type": "code",
      "source": [
        "print(f'El radio maximo es {planet_radius.max()}, y el minimo es {planet_radius.min()}')"
      ],
      "metadata": {
        "colab": {
          "base_uri": "https://localhost:8080/"
        },
        "id": "nd1vJz1qZjZa",
        "outputId": "d48e3f29-d106-4e63-c728-c43125dad8a5"
      },
      "execution_count": 59,
      "outputs": [
        {
          "output_type": "stream",
          "name": "stdout",
          "text": [
            "El radio maximo es 200346.0, y el minimo es 0.08\n"
          ]
        }
      ]
    },
    {
      "cell_type": "markdown",
      "source": [
        "Estimaciones basadas en percentiles"
      ],
      "metadata": {
        "id": "lIRKteqebEts"
      }
    },
    {
      "cell_type": "code",
      "source": [
        "print(f'El primer cuartil se ubica en {planet_radius.quantile(0.25)}, y el tercer cuartil en {planet_radius.quantile(0.75)}')"
      ],
      "metadata": {
        "colab": {
          "base_uri": "https://localhost:8080/"
        },
        "id": "n3apo-tQa1z0",
        "outputId": "b3a5492b-5b2f-41d1-cc94-3766596d845c"
      },
      "execution_count": 60,
      "outputs": [
        {
          "output_type": "stream",
          "name": "stdout",
          "text": [
            "El primer cuartil se ubica en 1.4, y el tercer cuartil en 14.93\n"
          ]
        }
      ]
    },
    {
      "cell_type": "markdown",
      "source": [
        "Rango intercuartil"
      ],
      "metadata": {
        "id": "yVRadeuMcxod"
      }
    },
    {
      "cell_type": "code",
      "source": [
        "iqr=planet_radius.quantile(0.75)-planet_radius.quantile(0.25)\n",
        "print(f'Rango intercuartil: {iqr}')"
      ],
      "metadata": {
        "colab": {
          "base_uri": "https://localhost:8080/"
        },
        "id": "jDKOKKT6cIWU",
        "outputId": "9bc907b7-eb6e-437a-b463-4674d4991772"
      },
      "execution_count": 61,
      "outputs": [
        {
          "output_type": "stream",
          "name": "stdout",
          "text": [
            "Rango intercuartil: 13.53\n"
          ]
        }
      ]
    },
    {
      "cell_type": "markdown",
      "source": [
        "Curtosis y grado de asimetría (Skewness)"
      ],
      "metadata": {
        "id": "GZpMHLzO7Is6"
      }
    },
    {
      "cell_type": "code",
      "source": [
        "print(f'Asimetría de los radios planetarios {planet_radius.skew()}, y su curtosis relativa {planet_radius.kurtosis()}')"
      ],
      "metadata": {
        "colab": {
          "base_uri": "https://localhost:8080/"
        },
        "outputId": "254a0dab-f9e1-49e7-ec94-e8d992751110",
        "id": "wMqS2Ix67ItE"
      },
      "execution_count": 62,
      "outputs": [
        {
          "output_type": "stream",
          "name": "stdout",
          "text": [
            "Asimetría de los radios planetarios 52.11895420603228, y su curtosis relativa 2974.9107107967575\n"
          ]
        }
      ]
    },
    {
      "cell_type": "markdown",
      "source": [
        "## Filtrado\n",
        "Se deben cortar los valores en los extremos de la distribución para reducir la disparidad entre la media y la mediana"
      ],
      "metadata": {
        "id": "pVrHXt_h3Xvz"
      }
    },
    {
      "cell_type": "code",
      "source": [
        "def filter(df,col,iqr_score):\n",
        "  iqr_col=df[col].quantile(0.75)-df[col].quantile(0.25)\n",
        "  filter_lower=df[col]>df[col].quantile(0.25)-(iqr_col*iqr_score)\n",
        "  filter_upper=df[col]<df[col].quantile(0.75)+(iqr_col*iqr_score)\n",
        "  return df[filter_lower & filter_upper]"
      ],
      "metadata": {
        "id": "jAzS-1TUdBAi"
      },
      "execution_count": 63,
      "outputs": []
    },
    {
      "cell_type": "code",
      "source": [
        "df_filtered=df_kepler_clean.copy()\n",
        "df_filtered=filter(df_kepler_clean,'koi_prad',2)"
      ],
      "metadata": {
        "id": "TrY1QvfYfx1D"
      },
      "execution_count": 64,
      "outputs": []
    },
    {
      "cell_type": "markdown",
      "source": [
        "Estimaciones estadisticas sobre los datos filtrados"
      ],
      "metadata": {
        "id": "deT1DpGc40xR"
      }
    },
    {
      "cell_type": "code",
      "source": [
        "planet_radius_fil=df_filtered['koi_prad']"
      ],
      "metadata": {
        "id": "DKntOQE8hzE6"
      },
      "execution_count": 65,
      "outputs": []
    },
    {
      "cell_type": "code",
      "source": [
        "print(f'Media: {planet_radius_fil.mean()}, Mediana: {planet_radius_fil.median()}' )"
      ],
      "metadata": {
        "colab": {
          "base_uri": "https://localhost:8080/"
        },
        "outputId": "11f8f825-7dec-410a-e608-4ef5364cf8be",
        "id": "Gg5S81ILhzE8"
      },
      "execution_count": 66,
      "outputs": [
        {
          "output_type": "stream",
          "name": "stdout",
          "text": [
            "Media: 5.983313668884147, Mediana: 2.08\n"
          ]
        }
      ]
    },
    {
      "cell_type": "code",
      "source": [
        "print(f'Media truncada al 20% :{trim_mean(planet_radius_fil,0.2)}')"
      ],
      "metadata": {
        "colab": {
          "base_uri": "https://localhost:8080/"
        },
        "outputId": "1aa803f6-01e0-4402-d2f7-2050f50735c8",
        "id": "ZFFD6WZ9hzE9"
      },
      "execution_count": 67,
      "outputs": [
        {
          "output_type": "stream",
          "name": "stdout",
          "text": [
            "Media truncada al 20% :2.3407948128006693\n"
          ]
        }
      ]
    },
    {
      "cell_type": "code",
      "source": [
        "print(f'Desviación estandar: {planet_radius_fil.std()}')"
      ],
      "metadata": {
        "colab": {
          "base_uri": "https://localhost:8080/"
        },
        "outputId": "5f8e0b3e-a101-4cf5-ad21-26756b603737",
        "id": "7awEp_auhzE9"
      },
      "execution_count": 68,
      "outputs": [
        {
          "output_type": "stream",
          "name": "stdout",
          "text": [
            "Desviación estandar: 9.33957049425806\n"
          ]
        }
      ]
    },
    {
      "cell_type": "code",
      "source": [
        "print(f'Maximo: {planet_radius_fil.max()}, y minimo: {planet_radius_fil.min()}')"
      ],
      "metadata": {
        "colab": {
          "base_uri": "https://localhost:8080/"
        },
        "outputId": "13480a77-5580-4aba-db40-805f3182c26b",
        "id": "weMbuQkPhzE-"
      },
      "execution_count": 69,
      "outputs": [
        {
          "output_type": "stream",
          "name": "stdout",
          "text": [
            "Maximo: 41.84, y minimo: 0.08\n"
          ]
        }
      ]
    },
    {
      "cell_type": "code",
      "source": [
        "print(f'El primer cuartil se ubica en {planet_radius_fil.quantile(0.25)}, y el tercer cuartil se ubica en {planet_radius_fil.quantile(0.75)}')"
      ],
      "metadata": {
        "colab": {
          "base_uri": "https://localhost:8080/"
        },
        "outputId": "52c5f0ce-00c3-418a-8b1a-4c4e71e44fc3",
        "id": "AmsTCCjNhzE-"
      },
      "execution_count": 70,
      "outputs": [
        {
          "output_type": "stream",
          "name": "stdout",
          "text": [
            "El primer cuartil se ubica en 1.31, y el tercer cuartil se ubica en 3.9450000000000003\n"
          ]
        }
      ]
    },
    {
      "cell_type": "code",
      "source": [
        "iqr_fil=planet_radius_fil.quantile(0.75)-planet_radius_fil.quantile(0.25)\n",
        "print(f'Rango intercuartil {iqr_fil}')"
      ],
      "metadata": {
        "colab": {
          "base_uri": "https://localhost:8080/"
        },
        "outputId": "1df71322-72e0-454d-86f5-266703741e19",
        "id": "kjfiLEYjhzFA"
      },
      "execution_count": 71,
      "outputs": [
        {
          "output_type": "stream",
          "name": "stdout",
          "text": [
            "Rango intercuartil 2.6350000000000002\n"
          ]
        }
      ]
    },
    {
      "cell_type": "code",
      "source": [
        "print(f'Asimetría(skewness): {planet_radius_fil.skew()}, Curtosis relativa: {planet_radius_fil.kurtosis()}')"
      ],
      "metadata": {
        "colab": {
          "base_uri": "https://localhost:8080/"
        },
        "id": "f-MbuY0JjN5x",
        "outputId": "85867b78-a45f-421d-b44f-376b2fd25479"
      },
      "execution_count": 72,
      "outputs": [
        {
          "output_type": "stream",
          "name": "stdout",
          "text": [
            "Asimetría(skewness): 2.2853973411240904, Curtosis relativa: 4.165212647859917\n"
          ]
        }
      ]
    },
    {
      "cell_type": "markdown",
      "source": [
        "## Visualización de Datos\n",
        "Grafico de caja\n"
      ],
      "metadata": {
        "id": "UAEmKrDh6ZE4"
      }
    },
    {
      "cell_type": "code",
      "source": [
        "import seaborn as sns"
      ],
      "metadata": {
        "id": "eHl8367Be6gO"
      },
      "execution_count": 74,
      "outputs": []
    },
    {
      "cell_type": "code",
      "source": [
        "ax0=sns.boxplot(x=df_filtered['koi_prad'])\n",
        "ax0.set_title ('Radio de exoplanetas')\n",
        "ax0.set(xlabel='Radio planetario (Radios terrestres)')"
      ],
      "metadata": {
        "colab": {
          "base_uri": "https://localhost:8080/",
          "height": 489
        },
        "id": "_nvAzbxIfDQ8",
        "outputId": "99185d6d-2659-4e12-c5cb-fafbef685281"
      },
      "execution_count": 76,
      "outputs": [
        {
          "output_type": "execute_result",
          "data": {
            "text/plain": [
              "[Text(0.5, 0, 'Radio planetario (Radios terrestres)')]"
            ]
          },
          "metadata": {},
          "execution_count": 76
        },
        {
          "output_type": "display_data",
          "data": {
            "text/plain": [
              "<Figure size 640x480 with 1 Axes>"
            ],
            "image/png": "[encoded data removed]"
          },
          "metadata": {}
        }
      ]
    },
    {
      "cell_type": "markdown",
      "source": [
        "Tabla de frecuencias\n"
      ],
      "metadata": {
        "id": "CAOWL7DV1UX9"
      }
    },
    {
      "cell_type": "code",
      "source": [
        "import numpy as np"
      ],
      "metadata": {
        "id": "GmIigyIx2Ikm"
      },
      "execution_count": 78,
      "outputs": []
    },
    {
      "cell_type": "code",
      "source": [
        "bins_radius=int(1+np.log2(planet_radius_fil.size))\n",
        "print(f\"De acuerdo a la regla de Sturges, el numero optimo de intervalos para los radios es {bins_radius}\")"
      ],
      "metadata": {
        "colab": {
          "base_uri": "https://localhost:8080/"
        },
        "id": "emBl-WFCfM2O",
        "outputId": "c6f0622b-37f0-497b-89ae-8de1e0fb620b"
      },
      "execution_count": 80,
      "outputs": [
        {
          "output_type": "stream",
          "name": "stdout",
          "text": [
            "De acuerdo a la regla de Sturges, el numero optimo de intervalos para los radios es 13\n"
          ]
        }
      ]
    },
    {
      "cell_type": "code",
      "source": [
        "frequencies_radius=pd.cut(planet_radius_fil,bins_radius)\n",
        "frequencies_radius"
      ],
      "metadata": {
        "colab": {
          "base_uri": "https://localhost:8080/",
          "height": 458
        },
        "id": "PQjEA5Ux2QMO",
        "outputId": "71705e4e-b772-47aa-9508-c1bc98b27d8a"
      },
      "execution_count": 84,
      "outputs": [
        {
          "output_type": "execute_result",
          "data": {
            "text/plain": [
              "0        (0.0382, 3.292]\n",
              "1        (0.0382, 3.292]\n",
              "2       (12.929, 16.142]\n",
              "3       (32.203, 35.415]\n",
              "4        (0.0382, 3.292]\n",
              "              ...       \n",
              "9196    (28.991, 32.203]\n",
              "9197     (0.0382, 3.292]\n",
              "9198     (0.0382, 3.292]\n",
              "9199    (16.142, 19.354]\n",
              "9200     (0.0382, 3.292]\n",
              "Name: koi_prad, Length: 7967, dtype: category\n",
              "Categories (13, interval[float64, right]): [(0.0382, 3.292] < (3.292, 6.505] < (6.505, 9.717] <\n",
              "                                            (9.717, 12.929] ... (28.991, 32.203] <\n",
              "                                            (32.203, 35.415] < (35.415, 38.628] < (38.628, 41.84]]"
            ],
            "text/html": [
              "<div>\n",
              "<style scoped>\n",
              "    .dataframe tbody tr th:only-of-type {\n",
              "        vertical-align: middle;\n",
              "    }\n",
              "\n",
              "    .dataframe tbody tr th {\n",
              "        vertical-align: top;\n",
              "    }\n",
              "\n",
              "    .dataframe thead th {\n",
              "        text-align: right;\n",
              "    }\n",
              "</style>\n",
              "<table border=\"1\" class=\"dataframe\">\n",
              "  <thead>\n",
              "    <tr style=\"text-align: right;\">\n",
              "      <th></th>\n",
              "      <th>koi_prad</th>\n",
              "    </tr>\n",
              "  </thead>\n",
              "  <tbody>\n",
              "    <tr>\n",
              "      <th>0</th>\n",
              "      <td>(0.0382, 3.292]</td>\n",
              "    </tr>\n",
              "    <tr>\n",
              "      <th>1</th>\n",
              "      <td>(0.0382, 3.292]</td>\n",
              "    </tr>\n",
              "    <tr>\n",
              "      <th>2</th>\n",
              "      <td>(12.929, 16.142]</td>\n",
              "    </tr>\n",
              "    <tr>\n",
              "      <th>3</th>\n",
              "      <td>(32.203, 35.415]</td>\n",
              "    </tr>\n",
              "    <tr>\n",
              "      <th>4</th>\n",
              "      <td>(0.0382, 3.292]</td>\n",
              "    </tr>\n",
              "    <tr>\n",
              "      <th>...</th>\n",
              "      <td>...</td>\n",
              "    </tr>\n",
              "    <tr>\n",
              "      <th>9196</th>\n",
              "      <td>(28.991, 32.203]</td>\n",
              "    </tr>\n",
              "    <tr>\n",
              "      <th>9197</th>\n",
              "      <td>(0.0382, 3.292]</td>\n",
              "    </tr>\n",
              "    <tr>\n",
              "      <th>9198</th>\n",
              "      <td>(0.0382, 3.292]</td>\n",
              "    </tr>\n",
              "    <tr>\n",
              "      <th>9199</th>\n",
              "      <td>(16.142, 19.354]</td>\n",
              "    </tr>\n",
              "    <tr>\n",
              "      <th>9200</th>\n",
              "      <td>(0.0382, 3.292]</td>\n",
              "    </tr>\n",
              "  </tbody>\n",
              "</table>\n",
              "<p>7967 rows × 1 columns</p>\n",
              "</div><br><label><b>dtype:</b> category</label>"
            ]
          },
          "metadata": {},
          "execution_count": 84
        }
      ]
    },
    {
      "cell_type": "code",
      "source": [
        "planet_radius_fil.groupby(frequencies_radius).count()"
      ],
      "metadata": {
        "colab": {
          "base_uri": "https://localhost:8080/",
          "height": 577
        },
        "id": "FqSmcqlY26-q",
        "outputId": "d92ccfd9-40b6-4108-ab0f-f0e05b813676"
      },
      "execution_count": 85,
      "outputs": [
        {
          "output_type": "stream",
          "name": "stderr",
          "text": [
            "<ipython-input-85-8aafb2bcbe5a>:1: FutureWarning: The default of observed=False is deprecated and will be changed to True in a future version of pandas. Pass observed=False to retain current behavior or observed=True to adopt the future default and silence this warning.\n",
            "  planet_radius_fil.groupby(frequencies_radius).count()\n"
          ]
        },
        {
          "output_type": "execute_result",
          "data": {
            "text/plain": [
              "koi_prad\n",
              "(0.0382, 3.292]     5691\n",
              "(3.292, 6.505]       693\n",
              "(6.505, 9.717]       237\n",
              "(9.717, 12.929]      181\n",
              "(12.929, 16.142]     148\n",
              "(16.142, 19.354]     122\n",
              "(19.354, 22.566]     135\n",
              "(22.566, 25.778]     153\n",
              "(25.778, 28.991]     141\n",
              "(28.991, 32.203]     134\n",
              "(32.203, 35.415]     106\n",
              "(35.415, 38.628]     112\n",
              "(38.628, 41.84]      114\n",
              "Name: koi_prad, dtype: int64"
            ],
            "text/html": [
              "<div>\n",
              "<style scoped>\n",
              "    .dataframe tbody tr th:only-of-type {\n",
              "        vertical-align: middle;\n",
              "    }\n",
              "\n",
              "    .dataframe tbody tr th {\n",
              "        vertical-align: top;\n",
              "    }\n",
              "\n",
              "    .dataframe thead th {\n",
              "        text-align: right;\n",
              "    }\n",
              "</style>\n",
              "<table border=\"1\" class=\"dataframe\">\n",
              "  <thead>\n",
              "    <tr style=\"text-align: right;\">\n",
              "      <th></th>\n",
              "      <th>koi_prad</th>\n",
              "    </tr>\n",
              "    <tr>\n",
              "      <th>koi_prad</th>\n",
              "      <th></th>\n",
              "    </tr>\n",
              "  </thead>\n",
              "  <tbody>\n",
              "    <tr>\n",
              "      <th>(0.0382, 3.292]</th>\n",
              "      <td>5691</td>\n",
              "    </tr>\n",
              "    <tr>\n",
              "      <th>(3.292, 6.505]</th>\n",
              "      <td>693</td>\n",
              "    </tr>\n",
              "    <tr>\n",
              "      <th>(6.505, 9.717]</th>\n",
              "      <td>237</td>\n",
              "    </tr>\n",
              "    <tr>\n",
              "      <th>(9.717, 12.929]</th>\n",
              "      <td>181</td>\n",
              "    </tr>\n",
              "    <tr>\n",
              "      <th>(12.929, 16.142]</th>\n",
              "      <td>148</td>\n",
              "    </tr>\n",
              "    <tr>\n",
              "      <th>(16.142, 19.354]</th>\n",
              "      <td>122</td>\n",
              "    </tr>\n",
              "    <tr>\n",
              "      <th>(19.354, 22.566]</th>\n",
              "      <td>135</td>\n",
              "    </tr>\n",
              "    <tr>\n",
              "      <th>(22.566, 25.778]</th>\n",
              "      <td>153</td>\n",
              "    </tr>\n",
              "    <tr>\n",
              "      <th>(25.778, 28.991]</th>\n",
              "      <td>141</td>\n",
              "    </tr>\n",
              "    <tr>\n",
              "      <th>(28.991, 32.203]</th>\n",
              "      <td>134</td>\n",
              "    </tr>\n",
              "    <tr>\n",
              "      <th>(32.203, 35.415]</th>\n",
              "      <td>106</td>\n",
              "    </tr>\n",
              "    <tr>\n",
              "      <th>(35.415, 38.628]</th>\n",
              "      <td>112</td>\n",
              "    </tr>\n",
              "    <tr>\n",
              "      <th>(38.628, 41.84]</th>\n",
              "      <td>114</td>\n",
              "    </tr>\n",
              "  </tbody>\n",
              "</table>\n",
              "</div><br><label><b>dtype:</b> int64</label>"
            ]
          },
          "metadata": {},
          "execution_count": 85
        }
      ]
    },
    {
      "cell_type": "markdown",
      "source": [
        "### Histograma"
      ],
      "metadata": {
        "id": "LE1yOTV33aJ7"
      }
    },
    {
      "cell_type": "code",
      "source": [
        "ax1=sns.histplot(planet_radius_fil,bins=bins_radius)\n",
        "ax1.set_title ('Radio de exoplanetas')\n",
        "ax1.set(xlabel='Radio de exoplanetas (Radios terrestres)')\n",
        "ax1.set(ylabel='Cantidad')"
      ],
      "metadata": {
        "colab": {
          "base_uri": "https://localhost:8080/",
          "height": 489
        },
        "id": "93EfO41h3LgA",
        "outputId": "1eeaeb81-c326-40ae-969d-d6994ca8ffd8"
      },
      "execution_count": 88,
      "outputs": [
        {
          "output_type": "execute_result",
          "data": {
            "text/plain": [
              "[Text(0, 0.5, 'Cantidad')]"
            ]
          },
          "metadata": {},
          "execution_count": 88
        },
        {
          "output_type": "display_data",
          "data": {
            "text/plain": [
              "<Figure size 640x480 with 1 Axes>"
            ],
            "image/png": "[encoded data removed]"
          },
          "metadata": {}
        }
      ]
    },
    {
      "cell_type": "markdown",
      "source": [
        "### Estimación de Kernel de densidad"
      ],
      "metadata": {
        "id": "uBUHzKb14Km1"
      }
    },
    {
      "cell_type": "code",
      "source": [
        "ax2=sns.kdeplot(planet_radius_fil,fill=True)\n",
        "ax2.set_title ('Radio de exoplanetas')\n",
        "ax2.set(xlabel='Radio de exoplanetas (Radios terrestres)')\n",
        "ax2.set(ylabel='Densidad de probabilidad')"
      ],
      "metadata": {
        "colab": {
          "base_uri": "https://localhost:8080/",
          "height": 489
        },
        "id": "3SejLnZu3hDM",
        "outputId": "7d0012b3-48ed-4cf0-e241-c5638470f785"
      },
      "execution_count": 89,
      "outputs": [
        {
          "output_type": "execute_result",
          "data": {
            "text/plain": [
              "[Text(0, 0.5, 'Densidad de probabilidad')]"
            ]
          },
          "metadata": {},
          "execution_count": 89
        },
        {
          "output_type": "display_data",
          "data": {
            "text/plain": [
              "<Figure size 640x480 with 1 Axes>"
            ],
            "image/png": "[encoded data removed]"
          },
          "metadata": {}
        }
      ]
    }
  ]
}
